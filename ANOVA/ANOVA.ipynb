{
 "cells": [
  {
   "cell_type": "markdown",
   "id": "a2a404cf-bf2a-4fbf-9323-6c86a2ffae4b",
   "metadata": {},
   "source": [
    "# ANOVA Testing\n",
    "\n",
    "**Seán O'Neill, 2025**\n",
    "\n",
    "The purpose of this notebook is to demonstrate the basics of analysis of variance (ANOVA) testing."
   ]
  },
  {
   "cell_type": "code",
   "execution_count": 3,
   "id": "470df87b-6041-4f96-bc4f-5587cfc72bd9",
   "metadata": {},
   "outputs": [],
   "source": [
    "#import the required libraries\n",
    "import numpy as np\n",
    "import matplotlib.pyplot as plt"
   ]
  },
  {
   "cell_type": "markdown",
   "id": "b238bf91-b473-4876-9249-194b4b79f158",
   "metadata": {},
   "source": [
    "### 1. One-way ANOVA\n",
    "\n",
    "The one-way ANOVA is useful for testing the effect of one single independent variable on a dependent variable.\n",
    "\n",
    "In a problem like this, we will have taken $n$ random, independent samples from each of $k$ populations, or groups, so that\n",
    "\n",
    "$Group \\ 1:\\ x_{11},\\; x_{12},\\; ...,\\; x_{1n}$ \n",
    "\n",
    "$Group \\ 2:\\ x_{21},\\; x_{22},\\; ...,\\; x_{2n}$\n",
    "\n",
    "$Group \\ k:\\ x_{k1},\\; x_{k2},\\; ...,\\; x_{kn}$\n",
    "\n",
    "We now make the *assumption* that the corresponding random variables, $X_{ij}$, all have normal distributions with means $\\mu_i$ and common variance $\\sigma$.\n",
    "\n",
    "This allows us to write, for the $j$th observation from group $i$, the observation $x_{ij} = \\mu_i + e_{ij}$, where $e_{ij}$ is normally distributed around zero, with the same common variance $\\sigma$.\n",
    "\n",
    "This can, in turn, be written as $x_{ij} = \\mu + \\alpha_i + e_{ij}$, with the constraint that $\\sum_{i=1}^{k} \\alpha_i = 0$. Here $\\mu$ is called the **grand mean**, while the $\\alpha_i$ are called the **treatment effects**.\n",
    "\n",
    "The null hypothesis we want to test is that all means are equal. This is equivalent to $H_0$:  $\\alpha_i = 0$ for $i = 1, \\; 2, \\;..., k$.\n",
    "\n",
    "The alternative hypothesis is that all means are not equal. This is equivalent to $H_0$:  $\\alpha_i \\neq 0$ for at least one of $i = 1, \\; 2, \\;..., k$.\n",
    "\n",
    "The one-way ANOVA test is based on the analysis of the total variablility of the combined data,\n",
    "$$ \\sum\\limits_{i=1}^k\\sum\\limits_{j=1}^n(x_{ij}-\\bar{x}_{..})^2$$\n",
    "where $\\bar{x}_{..}$ is the sample mean of the combined data."
   ]
  },
  {
   "cell_type": "code",
   "execution_count": 4,
   "id": "3ea9e309-37f8-4264-8ea1-7af3e3fed971",
   "metadata": {},
   "outputs": [],
   "source": [
    "#set the default random number generator\n",
    "rng = np.random.default_rng()"
   ]
  },
  {
   "cell_type": "code",
   "execution_count": 5,
   "id": "eb9869a5-bc6a-4b53-b380-f18eb70c8f78",
   "metadata": {},
   "outputs": [],
   "source": [
    "sample_group_one = rng.normal(5, 2, 1000)\n",
    "sample_group_two = rng.normal(15, 2, 1000)"
   ]
  },
  {
   "cell_type": "code",
   "execution_count": 6,
   "id": "5e96cb41-e9eb-426e-b281-55fffb7c7c8c",
   "metadata": {},
   "outputs": [
    {
     "data": {
      "text/plain": [
       "[]"
      ]
     },
     "execution_count": 6,
     "metadata": {},
     "output_type": "execute_result"
    },
    {
     "data": {
      "image/png": "[encoded data removed]",
      "text/plain": [
       "<Figure size 640x480 with 1 Axes>"
      ]
     },
     "metadata": {},
     "output_type": "display_data"
    }
   ],
   "source": [
    "plt.hist(sample_group_one)\n",
    "plt.hist(sample_group_two)\n",
    "plt.plot()"
   ]
  },
  {
   "cell_type": "code",
   "execution_count": 37,
   "id": "53101a3b-33bb-4e77-a083-dd81f16936b9",
   "metadata": {},
   "outputs": [],
   "source": [
    "class ANOVA:\n",
    "    def __init__(self, data):\n",
    "        self.data = data\n",
    "\n",
    "    def __combine_data(self):\n",
    "        combined = np.concatenate([self.data[group] for group in self.data])\n",
    "        return combined\n",
    "\n",
    "    def __combined_sample_mean(self):\n",
    "        return np.mean(self.__combine_data())\n",
    "\n",
    "    def __sample_size(self):\n",
    "        return np.max(np.array([len(self.data[group]) for group in self.data]))\n",
    "    \n",
    "    def __SSTr(self):\n",
    "        return self.__sample_size() * sum([np.square(np.mean(self.data[group]) \n",
    "                    - self.__combined_sample_mean()) for group in self.data])\n",
    "\n",
    "    def __SSE(self):\n",
    "        return sum([np.sum(np.square(self.data[group] - np.mean(self.data[group]))) for group in self.data])\n",
    "\n",
    "    def F_score(self):\n",
    "        k = len(self.data)\n",
    "        n = self.__sample_size()\n",
    "\n",
    "        return (self.__SSTr() / (k-1)) / (self.__SSE() / (k*(n-1)))\n",
    "        "
   ]
  },
  {
   "cell_type": "code",
   "execution_count": 47,
   "id": "f3e0314c-d04b-4335-8044-cde4cd0c419b",
   "metadata": {},
   "outputs": [],
   "source": [
    "x = list()\n",
    "for _ in range(10000):\n",
    "    sample_group_one = rng.normal(500, 2, 1000)\n",
    "    sample_group_two = rng.normal(500, 2, 1000)\n",
    "    \n",
    "    anova = ANOVA({\"A\" : sample_group_one,\n",
    "                   \"B\" : sample_group_two})\n",
    "\n",
    "    x.append(anova.F_score())\n"
   ]
  },
  {
   "cell_type": "code",
   "execution_count": 48,
   "id": "0ae4556d-67e5-4c96-85cc-d66b47e66bdf",
   "metadata": {},
   "outputs": [
    {
     "data": {
      "text/plain": [
       "[]"
      ]
     },
     "execution_count": 48,
     "metadata": {},
     "output_type": "execute_result"
    },
    {
     "data": {
      "image/png": "[encoded data removed]",
      "text/plain": [
       "<Figure size 640x480 with 1 Axes>"
      ]
     },
     "metadata": {},
     "output_type": "display_data"
    }
   ],
   "source": [
    "plt.hist(x)\n",
    "plt.plot()"
   ]
  },
  {
   "cell_type": "code",
   "execution_count": null,
   "id": "286225cc-0d7b-4b1d-ad3e-8b32182426f5",
   "metadata": {},
   "outputs": [],
   "source": []
  }
 ],
 "metadata": {
  "kernelspec": {
   "display_name": "Python 3 (ipykernel)",
   "language": "python",
   "name": "python3"
  },
  "language_info": {
   "codemirror_mode": {
    "name": "ipython",
    "version": 3
   },
   "file_extension": ".py",
   "mimetype": "text/x-python",
   "name": "python",
   "nbconvert_exporter": "python",
   "pygments_lexer": "ipython3",
   "version": "3.12.0"
  }
 },
 "nbformat": 4,
 "nbformat_minor": 5
}
