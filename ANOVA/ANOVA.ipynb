{
 "cells": [
  {
   "cell_type": "markdown",
   "id": "a2a404cf-bf2a-4fbf-9323-6c86a2ffae4b",
   "metadata": {},
   "source": [
    "# ANOVA Testing\n",
    "\n",
    "**Seán O'Neill, 2025**\n",
    "\n",
    "The purpose of this notebook is to demonstrate the basics of analysis of variance (ANOVA) testing."
   ]
  },
  {
   "cell_type": "code",
   "execution_count": 6,
   "id": "470df87b-6041-4f96-bc4f-5587cfc72bd9",
   "metadata": {},
   "outputs": [],
   "source": [
    "#import the required libraries\n",
    "import numpy as np"
   ]
  },
  {
   "cell_type": "markdown",
   "id": "b238bf91-b473-4876-9249-194b4b79f158",
   "metadata": {},
   "source": [
    "### 1. One-way ANOVA\n",
    "\n",
    "The one-way ANOVA is useful for testing the effect of one single independent variable on a dependent variable.\n",
    "\n",
    "In a problem like this, we will have taken $n$ random, independent samples from each of $k$ populations, or groups, so that\n",
    "\n",
    "$Group \\ 1:\\ x_{11},\\; x_{12},\\; ...,\\; x_{1n}$ \n",
    "\n",
    "$Group \\ 2:\\ x_{21},\\; x_{22},\\; ...,\\; x_{2n}$\n",
    "\n",
    "$Group \\ k:\\ x_{k1},\\; x_{k2},\\; ...,\\; x_{kn}$\n",
    "\n",
    "We now make the *assumption* that the corresponding random variables, $X_{ij}$, all have normal distributions with means $\\mu_i$ and common variance $\\sigma$.\n",
    "\n",
    "This allows us to write, for the $j$th observation from group $i$, the observation $x_{ij} = \\mu_i + e_{ij}$, where $e_{ij}$ is normally distributed around zero, with the same common variance $\\sigma$.\n",
    "\n",
    "This can, in turn, be written as $x_{ij} = \\mu + \\alpha_i + e_{ij}$, with the constraint that $\\sum_{i=1}^{k} \\alpha_i = 0$. Here $\\mu$ is called the **grand mean**, while the $\\alpha_i$ are called the **treatment effects**."
   ]
  },
  {
   "cell_type": "code",
   "execution_count": null,
   "id": "3ea9e309-37f8-4264-8ea1-7af3e3fed971",
   "metadata": {},
   "outputs": [],
   "source": [
    "def "
   ]
  }
 ],
 "metadata": {
  "kernelspec": {
   "display_name": "Python 3 (ipykernel)",
   "language": "python",
   "name": "python3"
  },
  "language_info": {
   "codemirror_mode": {
    "name": "ipython",
    "version": 3
   },
   "file_extension": ".py",
   "mimetype": "text/x-python",
   "name": "python",
   "nbconvert_exporter": "python",
   "pygments_lexer": "ipython3",
   "version": "3.12.0"
  }
 },
 "nbformat": 4,
 "nbformat_minor": 5
}
